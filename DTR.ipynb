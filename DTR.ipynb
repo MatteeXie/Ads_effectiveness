{
 "cells": [
  {
   "attachments": {},
   "cell_type": "markdown",
   "metadata": {},
   "source": [
    "## Decision Tree 决策树模型\n",
    "- 节点node\n",
    "- 分支split\n",
    "- 剪枝：预剪枝：在创建树的同时剪枝。后剪枝：树建好了再修剪\n",
    "- 树模型的优势：自动处理大量变量，树模型会在所有自变量中选出最重要的自变量对样本进行切分。对数据没有正态独立方差齐这些要求，应用范围更广"
   ]
  },
  {
   "attachments": {},
   "cell_type": "markdown",
   "metadata": {},
   "source": [
    "### 决策树分类"
   ]
  },
  {
   "cell_type": "code",
   "execution_count": 60,
   "metadata": {},
   "outputs": [],
   "source": [
    "from sklearn import datasets\n",
    "from sklearn.model_selection import train_test_split\n",
    "from sklearn.tree import DecisionTreeClassifier\n",
    "from sklearn.tree import DecisionTreeRegressor\n",
    "from sklearn.metrics import classification_report\n",
    "from sklearn.model_selection import GridSearchCV   #网格搜索\n",
    "from sklearn.model_selection import cross_val_score #交叉验证\n",
    "from sklearn.model_selection import cross_validate#交叉验证\n",
    "import pandas as pd\n",
    "import math\n",
    "import joblib\n",
    "from sklearn import metrics\n",
    "from sklearn.preprocessing import StandardScaler\n",
    "import numpy as np"
   ]
  },
  {
   "cell_type": "code",
   "execution_count": 70,
   "metadata": {},
   "outputs": [
    {
     "name": "stdout",
     "output_type": "stream",
     "text": [
      "[0.96666667 0.96666667 0.9        0.96666667 1.        ]\n"
     ]
    }
   ],
   "source": [
    "\n",
    "iris = datasets.load_iris()\n",
    "X = iris.data\n",
    "y = iris.target\n",
    "X_train, X_test, y_train, y_test = train_test_split(X, y, test_size=0.3)\n",
    "\n",
    "DTC = DecisionTreeClassifier(criterion='entropy')\n",
    "\n",
    "cv_score = cross_val_score(DTC       #实例化的模型\n",
    "\t\t\t\t, X   #完整的特征值\n",
    "\t\t\t\t, y #完整的目标值\n",
    "\t\t\t\t, cv=5         #几折交叉验证\n",
    "\t\t\t\t,scoring = \"accuracy\"   #对于回归，默认返回R²。在回归交叉验证要使用MSE\n",
    "\t\t\t\t)\n",
    "\n",
    "print(cv_score)\n",
    "# DTC.fit(X_train, y_train)\n",
    "# DTC.score(X_test,y_test)\n"
   ]
  },
  {
   "attachments": {},
   "cell_type": "markdown",
   "metadata": {},
   "source": [
    "### DTC可视化"
   ]
  },
  {
   "cell_type": "code",
   "execution_count": 2,
   "metadata": {},
   "outputs": [
    {
     "data": {
      "text/plain": [
       "True"
      ]
     },
     "execution_count": 2,
     "metadata": {},
     "output_type": "execute_result"
    }
   ],
   "source": [
    "#!/usr/bin/python\n",
    "# -*- coding: UTF-8 -*-\n",
    "# .Data:.2019/12/27\n",
    "# -*- coding: utf-8 -*-\n",
    " \n",
    "from sklearn import datasets\n",
    "from sklearn.tree import DecisionTreeClassifier\n",
    "from sklearn import tree\n",
    "import pydotplus\n",
    " \n",
    "import warnings\n",
    "warnings.filterwarnings(\"ignore\")\n",
    " \n",
    "#加载数据\n",
    "iris = datasets.load_iris()\n",
    " \n",
    "#构建模型\n",
    "fls = DecisionTreeClassifier()\n",
    "fls = fls.fit(iris.data,iris.target)\n",
    " \n",
    "#保存模型\n",
    "with open('iris.dot','w') as f:\n",
    "    f = tree.export_graphviz(fls,out_file=f)\n",
    " \n",
    "#画图，保存到pdf文件中\n",
    " \n",
    "#设置图像参数\n",
    "dot_data = tree.export_graphviz(fls,out_file=None,\n",
    "                                feature_names=iris.feature_names,\n",
    "                                class_names=iris.target_names,\n",
    "                                filled=True,rounded=True,special_characters=True)\n",
    " \n",
    "graph = pydotplus.graph_from_dot_data(dot_data)\n",
    " \n",
    "#保存图像到pdf文件\n",
    "graph.write_pdf('iris.pdf')\n"
   ]
  },
  {
   "cell_type": "code",
   "execution_count": 2,
   "metadata": {},
   "outputs": [
    {
     "name": "stdout",
     "output_type": "stream",
     "text": [
      "['sepal length (cm)', 'sepal width (cm)', 'petal length (cm)', 'petal width (cm)']\n"
     ]
    },
    {
     "data": {
      "text/plain": [
       "array([0.01906837, 0.02764914, 0.40706919, 0.5462133 ])"
      ]
     },
     "execution_count": 2,
     "metadata": {},
     "output_type": "execute_result"
    }
   ],
   "source": [
    "print(iris.feature_names)\n",
    "DTC.feature_importances_"
   ]
  },
  {
   "cell_type": "code",
   "execution_count": 4,
   "metadata": {},
   "outputs": [
    {
     "name": "stdout",
     "output_type": "stream",
     "text": [
      "              precision    recall  f1-score   support\n",
      "\n",
      "           0       1.00      1.00      1.00        13\n",
      "           1       0.89      1.00      0.94        17\n",
      "           2       1.00      0.87      0.93        15\n",
      "\n",
      "    accuracy                           0.96        45\n",
      "   macro avg       0.96      0.96      0.96        45\n",
      "weighted avg       0.96      0.96      0.96        45\n",
      "\n"
     ]
    }
   ],
   "source": [
    "print(classification_report(y_test, DTC.predict(X_test)))"
   ]
  },
  {
   "cell_type": "code",
   "execution_count": null,
   "metadata": {},
   "outputs": [],
   "source": [
    "# 看看树的样子\n",
    "from sklearn.tree import export_graphviz\n",
    "\n",
    "export_graphviz(DTC, out_file=\"classify_tree.dot\", feature_names=iris.feature_names, class_names=iris.target_names)\n",
    "\n",
    "# 使用graphviz查看，使用软件打开.dot文件\n",
    "with open('classify_tree.dot') as f:\n",
    "    dot_graph = f.read\n",
    "\n",
    "import graphviz\n",
    "graph = graphviz.Source(dot_graph)\n",
    "graph.render('classify_tree')"
   ]
  },
  {
   "attachments": {},
   "cell_type": "markdown",
   "metadata": {},
   "source": [
    "### 决策树回归\n",
    "- 分类与回归的区别：分类问题中的因变量是分类变量，回归种的因变量是连续变量\n",
    "- 分类决策树中，用信息熵表示节点的混乱程度\n",
    "- 回归决策树中，改用均方差来表示混乱程度\n",
    "- 分类决策树中，叶子结点的众数就是输出结果\n",
    "- 回归决策树中，改用叶子节点的平均数作为结果"
   ]
  },
  {
   "cell_type": "code",
   "execution_count": 2,
   "metadata": {},
   "outputs": [
    {
     "name": "stdout",
     "output_type": "stream",
     "text": [
      "0.8177924678036443\n"
     ]
    },
    {
     "name": "stderr",
     "output_type": "stream",
     "text": [
      "/home/dldx/anaconda3/envs/torch/lib/python3.7/site-packages/sklearn/utils/deprecation.py:87: FutureWarning: Function load_boston is deprecated; `load_boston` is deprecated in 1.0 and will be removed in 1.2.\n",
      "\n",
      "    The Boston housing prices dataset has an ethical problem. You can refer to\n",
      "    the documentation of this function for further details.\n",
      "\n",
      "    The scikit-learn maintainers therefore strongly discourage the use of this\n",
      "    dataset unless the purpose of the code is to study and educate about\n",
      "    ethical issues in data science and machine learning.\n",
      "\n",
      "    In this special case, you can fetch the dataset from the original\n",
      "    source::\n",
      "\n",
      "        import pandas as pd\n",
      "        import numpy as np\n",
      "\n",
      "\n",
      "        data_url = \"http://lib.stat.cmu.edu/datasets/boston\"\n",
      "        raw_df = pd.read_csv(data_url, sep=\"\\s+\", skiprows=22, header=None)\n",
      "        data = np.hstack([raw_df.values[::2, :], raw_df.values[1::2, :2]])\n",
      "        target = raw_df.values[1::2, 2]\n",
      "\n",
      "    Alternative datasets include the California housing dataset (i.e.\n",
      "    :func:`~sklearn.datasets.fetch_california_housing`) and the Ames housing\n",
      "    dataset. You can load the datasets as follows::\n",
      "\n",
      "        from sklearn.datasets import fetch_california_housing\n",
      "        housing = fetch_california_housing()\n",
      "\n",
      "    for the California housing dataset and::\n",
      "\n",
      "        from sklearn.datasets import fetch_openml\n",
      "        housing = fetch_openml(name=\"house_prices\", as_frame=True)\n",
      "\n",
      "    for the Ames housing dataset.\n",
      "    \n",
      "  warnings.warn(msg, category=FutureWarning)\n"
     ]
    }
   ],
   "source": [
    "\n",
    "\n",
    "boston = datasets.load_boston()\n",
    "X = boston.data\n",
    "y = boston.target\n",
    "\n",
    "DTR = DecisionTreeRegressor(max_depth=3)\n",
    "DTR.fit(X,y)\n",
    "print(DTR.score(X,y))\n"
   ]
  },
  {
   "cell_type": "code",
   "execution_count": 4,
   "metadata": {},
   "outputs": [
    {
     "name": "stdout",
     "output_type": "stream",
     "text": [
      "['CRIM' 'ZN' 'INDUS' 'CHAS' 'NOX' 'RM' 'AGE' 'DIS' 'RAD' 'TAX' 'PTRATIO'\n",
      " 'B' 'LSTAT']\n"
     ]
    },
    {
     "data": {
      "text/plain": [
       "array([0.03254249, 0.        , 0.        , 0.        , 0.0288244 ,\n",
       "       0.64124098, 0.        , 0.0721473 , 0.        , 0.        ,\n",
       "       0.01593447, 0.        , 0.20931036])"
      ]
     },
     "execution_count": 4,
     "metadata": {},
     "output_type": "execute_result"
    }
   ],
   "source": [
    "print(boston.feature_names)\n",
    "DTR.feature_importances_"
   ]
  },
  {
   "cell_type": "code",
   "execution_count": null,
   "metadata": {},
   "outputs": [],
   "source": [
    "export_graphviz(DTR, out_file='regression_tree.dot', feature_names = boston.featurenames)\n",
    "\n",
    "with open('regression_tree.dot') as f:\n",
    "    dot_graph = f.read\n",
    "\n",
    "graph = graphviz.Source(dot_graph)\n",
    "graph.render('regression_tree')"
   ]
  },
  {
   "attachments": {},
   "cell_type": "markdown",
   "metadata": {},
   "source": [
    "## part1、 DT_Regression"
   ]
  },
  {
   "cell_type": "code",
   "execution_count": 6,
   "metadata": {},
   "outputs": [],
   "source": [
    "df = pd.read_csv(\"./data/ads_3.csv\")\n",
    "\n",
    "X = df[df.columns[:62]]\n",
    "Y = df[df.columns[62:]]"
   ]
  },
  {
   "cell_type": "code",
   "execution_count": 9,
   "metadata": {},
   "outputs": [],
   "source": [
    "\n",
    "MSE = []\n",
    "RMSE = []\n",
    "R_squared = []\n",
    "feature_importance = []\n",
    "\n",
    "for i in range(12):\n",
    "    y = Y[Y.columns[i]]\n",
    "    X_train, X_test, y_train, y_test = train_test_split(X, y, random_state=0, train_size=0.7)\n",
    "    \n",
    "    DT_regression = DecisionTreeRegressor(max_depth=4)\n",
    "    DT_regression.fit(X_train, y_train)\n",
    "\n",
    "    joblib.dump(DT_regression, \"model/SVM_regression/model{}.pkl\".format(i+1))\n",
    "    y_pred = DT_regression.predict(X_test)\n",
    "    MSE.append(metrics.mean_squared_error(y_test, y_pred))\n",
    "    RMSE.append(math.sqrt(metrics.mean_squared_error(y_test, y_pred)))\n",
    "    R_squared.append(metrics.r2_score(y_test, y_pred))\n",
    "\n",
    "    \n",
    "    feature_importance.append(list(DT_regression.feature_importances_))\n",
    "\n",
    "    "
   ]
  },
  {
   "cell_type": "code",
   "execution_count": 10,
   "metadata": {},
   "outputs": [],
   "source": [
    "result_dic = {\"MSE\":MSE, \"RMSE\":RMSE, \"R_squared\":R_squared}\n",
    "result_df = pd.DataFrame(result_dic, index=Y.columns)\n",
    "result_df.to_csv(\"result/DT_regression.csv\")\n",
    "\n",
    "feature_importance_df = pd.DataFrame(feature_importance, columns=X.columns, index=Y.columns)\n",
    "feature_importance_df.to_csv(\"result/DTR_feature_importance.csv\")"
   ]
  },
  {
   "cell_type": "code",
   "execution_count": 21,
   "metadata": {},
   "outputs": [],
   "source": [
    "MSE = []\n",
    "RMSE = []\n",
    "R_squared = []\n",
    "feature_importance = []\n",
    "\n",
    "for i in range(12):\n",
    "    y = Y[Y.columns[i]]\n",
    "    \n",
    "    DT_regression = DecisionTreeRegressor(max_depth=6)\n",
    "    DT_regression.fit(X, y)\n",
    "\n",
    "    joblib.dump(DT_regression, \"model/DT_regression/model{}.pkl\".format(i+1))\n",
    "    \n",
    "    MSE.append(metrics.mean_squared_error(y, DT_regression.predict(X)))\n",
    "    RMSE.append(math.sqrt(metrics.mean_squared_error(y, DT_regression.predict(X))))\n",
    "    R_squared.append(metrics.r2_score(y, DT_regression.predict(X)))\n",
    "\n",
    "    feature_importance.append(list(DT_regression.feature_importances_))"
   ]
  },
  {
   "cell_type": "code",
   "execution_count": 19,
   "metadata": {},
   "outputs": [],
   "source": [
    "result_dic = {\"MSE\":MSE, \"RMSE\":RMSE, \"R_squared\":R_squared}\n",
    "result_df = pd.DataFrame(result_dic, index=Y.columns)\n",
    "result_df.to_csv(\"result/DT_regression.csv\")\n",
    "\n",
    "feature_importance_df = pd.DataFrame(feature_importance, columns=X.columns, index=Y.columns)\n",
    "feature_importance_df.to_csv(\"result/DTR_feature_importance.csv\")"
   ]
  },
  {
   "attachments": {},
   "cell_type": "markdown",
   "metadata": {},
   "source": [
    "## part2、 DT_Classification"
   ]
  },
  {
   "cell_type": "code",
   "execution_count": 41,
   "metadata": {},
   "outputs": [],
   "source": [
    "df = pd.read_csv(\"./data/ads_3.csv\")\n",
    "\n",
    "X = df[df.columns[:62]]\n",
    "Y = df[df.columns[62:]]\n",
    "Y = round(Y*10).astype(int)\n"
   ]
  },
  {
   "cell_type": "code",
   "execution_count": 44,
   "metadata": {},
   "outputs": [],
   "source": [
    "score_list = []\n",
    "feature_importance = []\n",
    "\n",
    "for i in range(12):\n",
    "    y = Y[Y.columns[i]]\n",
    "    X_train, X_test, y_train, y_test = train_test_split(X, y, random_state=0, train_size=0.7)\n",
    "    \n",
    "    DT_classification = DecisionTreeClassifier(max_depth=6)\n",
    "    DT_classification.fit(X_train, y_train)\n",
    "\n",
    "    joblib.dump(DT_classification, \"model/DT_classification/model{}.pkl\".format(i+1))\n",
    "    y_pred = DT_classification.predict(X_test)\n",
    "    score_list.append(DT_classification.score(X_test,y_test))\n",
    "\n",
    "    feature_importance.append(list(DT_classification.feature_importances_))"
   ]
  },
  {
   "cell_type": "code",
   "execution_count": 45,
   "metadata": {},
   "outputs": [],
   "source": [
    "\n",
    "result_df = pd.DataFrame(score_list, index=Y.columns, columns=['ACC'])\n",
    "result_df.to_csv(\"./result/DT_classification.csv\")\n",
    "\n",
    "feature_importance_df = pd.DataFrame(feature_importance, columns=X.columns, index=Y.columns)\n",
    "feature_importance_df.to_csv(\"result/DTC_feature_importance.csv\")"
   ]
  },
  {
   "attachments": {},
   "cell_type": "markdown",
   "metadata": {},
   "source": [
    "## part3、Optimize DT_Regression"
   ]
  },
  {
   "attachments": {},
   "cell_type": "markdown",
   "metadata": {},
   "source": [
    "```\n",
    "sklearn.tree.DecisionTreeRegressor (criterion=’mse’\n",
    "                                    , splitter=’best’\n",
    "                                    , max_depth=None\n",
    "                                    ,min_samples_split=2\n",
    "                                    , min_samples_leaf=1\n",
    "                                    , min_weight_fraction_leaf=0.0\n",
    "                                    , max_features=None\n",
    "                                    ,random_state=None\n",
    "                                    , max_leaf_nodes=None\n",
    "                                    , min_impurity_decrease=0.0\n",
    "                                    , min_impurity_split=None\n",
    "                                    , presort=False\n",
    "                                    )\n",
    "\n",
    "```"
   ]
  },
  {
   "cell_type": "code",
   "execution_count": 142,
   "metadata": {},
   "outputs": [],
   "source": [
    "df = pd.read_csv(\"./data/ads_3.csv\")\n",
    "\n",
    "X = df[df.columns[:62]]\n",
    "Y = df[df.columns[62:]]\n"
   ]
  },
  {
   "cell_type": "code",
   "execution_count": 143,
   "metadata": {},
   "outputs": [],
   "source": [
    "MSE = []\n",
    "RMSE = []\n",
    "R_squared_validation = []\n",
    "R_squared_test = []\n",
    "feature_importance = []\n",
    "\n",
    "for i in range(12):\n",
    "    y = Y[Y.columns[i]]\n",
    "    X_train, X_test, y_train, y_test = train_test_split(X, y, random_state=0, train_size=0.7)\n",
    "    \n",
    "    params = {\n",
    "        \"max_depth\":[2,3,4,5],\n",
    "        'splitter':[\"random\", \"best\"],\n",
    "        'min_samples_leaf':[1,2,3,4],\n",
    "        'min_samples_split':[2,3,4,5]\n",
    "    }\n",
    "    \n",
    "    DT_regression = DecisionTreeRegressor()\n",
    "    model = GridSearchCV(DT_regression, param_grid=params, cv=5)\n",
    "    model.fit(X_train, y_train)\n",
    "    max_depth= model.best_params_[\"max_depth\"]\n",
    "    splitter = model.best_params_[\"splitter\"]\n",
    "    min_samples_leaf= model.best_params_[\"min_samples_leaf\"]\n",
    "    min_samples_split = model.best_params_[\"min_samples_split\"]\n",
    "    \n",
    "\n",
    "    DT_regression = DecisionTreeRegressor(random_state=0, max_depth=max_depth, splitter=splitter, min_samples_leaf=min_samples_leaf, min_samples_split=min_samples_split)\n",
    "\n",
    "    cv_score = cross_validate(DT_regression       #实例化的模型\n",
    "\t\t\t\t, X   #完整的特征值\n",
    "\t\t\t\t, y #完整的目标值\n",
    "\t\t\t\t, cv=5         #几折交叉验证\n",
    "\t\t\t\t,scoring = [\"neg_mean_squared_error\",\"neg_root_mean_squared_error\",\"r2\"]   \n",
    "\t\t\t\t)\n",
    "\n",
    "    \n",
    "    \n",
    "    MSE.append(cv_score[\"test_neg_mean_squared_error\"].mean())\n",
    "    RMSE.append(cv_score[\"test_neg_root_mean_squared_error\"].mean())\n",
    "    R_squared_validation.append(cv_score[\"test_r2\"].mean())\n",
    "\n",
    "    DT_regression = DecisionTreeRegressor(random_state=0, max_depth=max_depth, splitter=splitter, min_samples_leaf=min_samples_leaf, min_samples_split=min_samples_split)\n",
    "    DT_regression.fit(X_train,y_train)\n",
    "    R_squared_test.append(DT_regression.score(X_test, y_test))\n",
    "    joblib.dump(DT_regression, \"model/DT_optimized_regression/model{}.pkl\".format(i+1))\n",
    "\n",
    "    feature_importance.append(list(DT_regression.feature_importances_))\n"
   ]
  },
  {
   "cell_type": "code",
   "execution_count": 140,
   "metadata": {},
   "outputs": [],
   "source": [
    "MSE = np.array(MSE) * -1\n",
    "RMSE = np.array(RMSE) * -1\n",
    "result_dic = {\"MSE\":MSE, \"RMSE\":RMSE, \"R_squared_validation\":R_squared_validation, \"R_squared_test\":R_squared_test}\n",
    "result_df = pd.DataFrame(result_dic, index=Y.columns)\n",
    "result_df.to_csv(\"result/DT_optimized_regression.csv\")\n",
    "\n",
    "feature_importance_df = pd.DataFrame(feature_importance, columns=X.columns, index=Y.columns)\n",
    "feature_importance_df.to_csv(\"result/DTR_optimized_feature_importance.csv\")"
   ]
  },
  {
   "attachments": {},
   "cell_type": "markdown",
   "metadata": {},
   "source": [
    "## part4、Optimize DT_Classification"
   ]
  },
  {
   "attachments": {},
   "cell_type": "markdown",
   "metadata": {},
   "source": [
    "```\n",
    "sklearn.tree.DecisionTreeClassifier (criterion=’gini’\n",
    "\t\t\t\t\t, splitter=’best’\n",
    "\t\t\t\t\t,max_depth=None\n",
    "\t\t\t\t\t,min_samples_split=2\n",
    "\t\t\t\t\t, min_samples_leaf=1\n",
    "\t\t\t\t\t, min_weight_fraction_leaf=0.0\n",
    "\t\t\t\t\t, max_features=None\n",
    "\t\t\t\t\t,random_state=None\n",
    "\t\t\t\t\t, max_leaf_nodes=None\n",
    "\t\t\t\t\t, min_impurity_decrease=0.0\n",
    "\t\t\t\t\t, min_impurity_split=None\n",
    "\t\t\t\t\t,class_weight=None\n",
    "\t\t\t\t\t, presort=False\n",
    "\t\t\t\t\t)\n",
    "```"
   ]
  },
  {
   "cell_type": "code",
   "execution_count": 134,
   "metadata": {},
   "outputs": [],
   "source": [
    "df = pd.read_csv(\"./data/ads_3.csv\")\n",
    "\n",
    "X = df[df.columns[:62]]\n",
    "Y = df[df.columns[62:]]\n",
    "Y = round(Y*10).astype(int)"
   ]
  },
  {
   "cell_type": "markdown",
   "metadata": {},
   "source": []
  },
  {
   "cell_type": "code",
   "execution_count": 135,
   "metadata": {},
   "outputs": [],
   "source": [
    "recall = []\n",
    "f1_score = []\n",
    "acc_validation = []\n",
    "acc_test = []\n",
    "feature_importance = []\n",
    "\n",
    "for i in range(12):\n",
    "    y = Y[Y.columns[i]]\n",
    "    X_train, X_test, y_train, y_test = train_test_split(X, y, random_state=0, train_size=0.7)\n",
    "    \n",
    "    params = {\n",
    "        \"max_depth\":[2,3,4,5,6],\n",
    "        'criterion':[\"gini\", \"entropy\"],\n",
    "        'splitter':[\"random\", \"best\"],\n",
    "        'min_samples_leaf':[1,2,3,4],\n",
    "        'min_samples_split':[2,3,4,5]\n",
    "    }\n",
    "    \n",
    "    DT_classification = DecisionTreeClassifier()\n",
    "    model = GridSearchCV(DT_classification, param_grid=params, cv=5)\n",
    "    model.fit(X_train, y_train)\n",
    "    max_depth= model.best_params_[\"max_depth\"]\n",
    "    criterion= model.best_params_[\"criterion\"]\n",
    "    splitter = model.best_params_[\"splitter\"]\n",
    "    min_samples_leaf= model.best_params_[\"min_samples_leaf\"]\n",
    "    min_samples_split = model.best_params_[\"min_samples_split\"]\n",
    "\n",
    "\n",
    "    DT_classification = DecisionTreeClassifier(random_state=0, max_depth=max_depth, criterion=criterion, splitter=splitter, min_samples_leaf=min_samples_leaf, min_samples_split=min_samples_split)\n",
    "    \n",
    "    cv_score = cross_validate(DT_classification,\n",
    "                               X,\n",
    "                               y,\n",
    "                               cv=10,\n",
    "                               scoring=[\"accuracy\",\"recall_macro\",\"f1_macro\"]\n",
    "\n",
    "    )\n",
    "    recall.append(cv_score[\"test_recall_macro\"].mean())\n",
    "    f1_score.append(cv_score[\"test_f1_macro\"].mean())\n",
    "    acc_validation.append(cv_score[\"test_accuracy\"].mean())\n",
    "    \n",
    "    \n",
    "    DT_classification = DecisionTreeClassifier(random_state=0, max_depth=max_depth, criterion=criterion, splitter=splitter, min_samples_leaf=min_samples_leaf, min_samples_split=min_samples_split)\n",
    "    DT_classification.fit(X_train, y_train)\n",
    "    acc_test.append(DT_classification.score(X_test, y_test))\n",
    "\n",
    "    joblib.dump(DT_classification, \"model/DT_optimized_classification/model{}.pkl\".format(i+1))\n",
    "\n",
    "    feature_importance.append(list(DT_classification.feature_importances_))\n"
   ]
  },
  {
   "cell_type": "code",
   "execution_count": 136,
   "metadata": {},
   "outputs": [],
   "source": [
    "result_dic = {\"recall\":recall, \"f1_score\":f1_score, \"acc_validation\":acc_validation, \"acc_test\":acc_test}\n",
    "result_df = pd.DataFrame(result_dic, index=Y.columns)\n",
    "result_df.to_csv(\"result/DT_optimized_classification.csv\")\n",
    "\n",
    "feature_importance_df = pd.DataFrame(feature_importance, columns=X.columns, index=Y.columns)\n",
    "feature_importance_df.to_csv(\"result/DTC_optimized_feature_importance.csv\")"
   ]
  }
 ],
 "metadata": {
  "kernelspec": {
   "display_name": "torch",
   "language": "python",
   "name": "python3"
  },
  "language_info": {
   "codemirror_mode": {
    "name": "ipython",
    "version": 3
   },
   "file_extension": ".py",
   "mimetype": "text/x-python",
   "name": "python",
   "nbconvert_exporter": "python",
   "pygments_lexer": "ipython3",
   "version": "3.7.12"
  },
  "orig_nbformat": 4
 },
 "nbformat": 4,
 "nbformat_minor": 2
}
