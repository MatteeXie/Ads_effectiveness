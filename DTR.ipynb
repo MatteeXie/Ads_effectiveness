{
 "cells": [
  {
   "attachments": {},
   "cell_type": "markdown",
   "metadata": {},
   "source": [
    "## Decision Tree 决策树模型\n",
    "- 节点node\n",
    "- 分支split\n",
    "- 剪枝：预剪枝：在创建树的同时剪枝。后剪枝：树建好了再修剪\n",
    "- 树模型的优势：自动处理大量变量，树模型会在所有自变量中选出最重要的自变量对样本进行切分。对数据没有正态独立方差齐这些要求，应用范围更广"
   ]
  },
  {
   "attachments": {},
   "cell_type": "markdown",
   "metadata": {},
   "source": [
    "### 决策树分类"
   ]
  },
  {
   "cell_type": "code",
   "execution_count": 8,
   "metadata": {},
   "outputs": [],
   "source": [
    "from sklearn import datasets\n",
    "from sklearn.model_selection import train_test_split\n",
    "from sklearn.tree import DecisionTreeClassifier\n",
    "from sklearn.metrics import classification_report\n",
    "import pandas as pd\n",
    "import math\n",
    "import joblib\n",
    "from sklearn import metrics"
   ]
  },
  {
   "cell_type": "code",
   "execution_count": 5,
   "metadata": {},
   "outputs": [
    {
     "data": {
      "text/plain": [
       "DecisionTreeClassifier()"
      ]
     },
     "execution_count": 5,
     "metadata": {},
     "output_type": "execute_result"
    }
   ],
   "source": [
    "\n",
    "iris = datasets.load_iris()\n",
    "X = iris.data\n",
    "y = iris.target\n",
    "X_train, X_test, y_train, y_test = train_test_split(X, y, test_size=0.3)\n",
    "\n",
    "DTC = DecisionTreeClassifier()\n",
    "DTC.fit(X_train, y_train)\n",
    "\n"
   ]
  },
  {
   "cell_type": "code",
   "execution_count": 2,
   "metadata": {},
   "outputs": [
    {
     "name": "stdout",
     "output_type": "stream",
     "text": [
      "['sepal length (cm)', 'sepal width (cm)', 'petal length (cm)', 'petal width (cm)']\n"
     ]
    },
    {
     "data": {
      "text/plain": [
       "array([0.01906837, 0.02764914, 0.40706919, 0.5462133 ])"
      ]
     },
     "execution_count": 2,
     "metadata": {},
     "output_type": "execute_result"
    }
   ],
   "source": [
    "print(iris.feature_names)\n",
    "DTC.feature_importances_"
   ]
  },
  {
   "cell_type": "code",
   "execution_count": 3,
   "metadata": {},
   "outputs": [
    {
     "data": {
      "text/plain": [
       "0.9555555555555556"
      ]
     },
     "execution_count": 3,
     "metadata": {},
     "output_type": "execute_result"
    }
   ],
   "source": [
    "DTC.score(X_test, y_test)"
   ]
  },
  {
   "cell_type": "code",
   "execution_count": 4,
   "metadata": {},
   "outputs": [
    {
     "name": "stdout",
     "output_type": "stream",
     "text": [
      "              precision    recall  f1-score   support\n",
      "\n",
      "           0       1.00      1.00      1.00        13\n",
      "           1       0.89      1.00      0.94        17\n",
      "           2       1.00      0.87      0.93        15\n",
      "\n",
      "    accuracy                           0.96        45\n",
      "   macro avg       0.96      0.96      0.96        45\n",
      "weighted avg       0.96      0.96      0.96        45\n",
      "\n"
     ]
    }
   ],
   "source": [
    "print(classification_report(y_test, DTC.predict(X_test)))"
   ]
  },
  {
   "cell_type": "code",
   "execution_count": null,
   "metadata": {},
   "outputs": [],
   "source": [
    "# 看看树的样子\n",
    "from sklearn.tree import export_graphviz\n",
    "\n",
    "export_graphviz(DTC, out_file=\"classify_tree.dot\", feature_names=iris.feature_names, class_names=iris.target_names)\n",
    "\n",
    "# 使用graphviz查看，使用软件打开.dot文件\n",
    "with open('classify_tree.dot') as f:\n",
    "    dot_graph = f.read\n",
    "\n",
    "import graphviz\n",
    "graph = graphviz.Source(dot_graph)\n",
    "graph.render('classify_tree')"
   ]
  },
  {
   "attachments": {},
   "cell_type": "markdown",
   "metadata": {},
   "source": [
    "### 决策树回归\n",
    "- 分类与回归的区别：分类问题中的因变量是分类变量，回归种的因变量是连续变量\n",
    "- 分类决策树中，用信息熵表示节点的混乱程度\n",
    "- 回归决策树中，改用均方差来表示混乱程度\n",
    "- 分类决策树中，叶子结点的众数就是输出结果\n",
    "- 回归决策树中，改用叶子节点的平均数作为结果"
   ]
  },
  {
   "cell_type": "code",
   "execution_count": null,
   "metadata": {},
   "outputs": [],
   "source": [
    "from sklearn.tree import DecisionTreeRegressor\n",
    "\n",
    "boston = datasets.load_boston()\n",
    "X = boston.data\n",
    "y = boston.target\n",
    "\n",
    "DTR = DecisionTreeRegressor(max_depth=3)\n",
    "DTR.fit(X,y)\n",
    "print(DTR.score(X,y))\n"
   ]
  },
  {
   "cell_type": "code",
   "execution_count": null,
   "metadata": {},
   "outputs": [],
   "source": [
    "export_graphviz(DTR, out_file='regression_tree.dot', feature_names = boston.featurenames)\n",
    "\n",
    "with open('regression_tree.dot') as f:\n",
    "    dot_graph = f.read\n",
    "\n",
    "graph = graphviz.Source(dot_graph)\n",
    "graph.render('regression_tree')"
   ]
  },
  {
   "attachments": {},
   "cell_type": "markdown",
   "metadata": {},
   "source": [
    "## part1、 SVM applied in ads effectiveness prediction"
   ]
  },
  {
   "cell_type": "code",
   "execution_count": 9,
   "metadata": {},
   "outputs": [],
   "source": [
    "df = pd.read_csv(\"./data/ads_3.csv\")\n",
    "\n",
    "X = df[df.columns[:62]]\n",
    "Y = df[df.columns[62:]]\n",
    "MSE = []\n",
    "RMSE = []\n",
    "R_squared = []\n",
    "\n",
    "for i in range(12):\n",
    "    y = Y[Y.columns[i]]\n",
    "    X_train, X_test, y_train, y_test = train_test_split(X, y, random_state=0)\n",
    "    \n",
    "    DT_regression = DecisionTreeRegressor(max_depth=4)\n",
    "    DT_regression.fit(X_train, y_train)\n",
    "\n",
    "    # joblib.dump(DT_regression, \"model/SVM_regression/model{}.pkl\".format(i+1))\n",
    "    y_pred = DT_regression.predict(X_test)\n",
    "    MSE.append(metrics.mean_squared_error(y_test, y_pred))\n",
    "    RMSE.append(math.sqrt(metrics.mean_squared_error(y_test, y_pred)))\n",
    "    R_squared.append(metrics.r2_score(y_test, y_pred))\n",
    "    "
   ]
  },
  {
   "cell_type": "code",
   "execution_count": 11,
   "metadata": {},
   "outputs": [],
   "source": [
    "result_dic = {\"MSE\":MSE, \"RMSE\":RMSE, \"R_squared\":R_squared}\n",
    "result_df = pd.DataFrame(result_dic, index=Y.columns)\n",
    "result_df.to_csv(\"result/DT_regression.csv\")"
   ]
  },
  {
   "cell_type": "code",
   "execution_count": 22,
   "metadata": {},
   "outputs": [],
   "source": [
    "MSE = []\n",
    "RMSE = []\n",
    "R_squared = []\n",
    "\n",
    "for i in range(12):\n",
    "    y = Y[Y.columns[i]]\n",
    "    \n",
    "    DT_regression = DecisionTreeRegressor(max_depth=6)\n",
    "    DT_regression.fit(X, y)\n",
    "\n",
    "    joblib.dump(DT_regression, \"model/DT_regression/model{}.pkl\".format(i+1))\n",
    "    \n",
    "    MSE.append(metrics.mean_squared_error(y, DT_regression.predict(X)))\n",
    "    RMSE.append(math.sqrt(metrics.mean_squared_error(y, DT_regression.predict(X))))\n",
    "    R_squared.append(metrics.r2_score(y, DT_regression.predict(X)))"
   ]
  },
  {
   "cell_type": "code",
   "execution_count": 20,
   "metadata": {},
   "outputs": [],
   "source": [
    "result_dic = {\"MSE\":MSE, \"RMSE\":RMSE, \"R_squared\":R_squared}\n",
    "result_df = pd.DataFrame(result_dic, index=Y.columns)\n",
    "result_df.to_csv(\"result/DT_regression.csv\")"
   ]
  }
 ],
 "metadata": {
  "kernelspec": {
   "display_name": "torch",
   "language": "python",
   "name": "torch"
  },
  "language_info": {
   "codemirror_mode": {
    "name": "ipython",
    "version": 3
   },
   "file_extension": ".py",
   "mimetype": "text/x-python",
   "name": "python",
   "nbconvert_exporter": "python",
   "pygments_lexer": "ipython3",
   "version": "3.7.12"
  },
  "orig_nbformat": 4
 },
 "nbformat": 4,
 "nbformat_minor": 2
}
