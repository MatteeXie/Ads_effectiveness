{
 "cells": [
  {
   "attachments": {},
   "cell_type": "markdown",
   "metadata": {},
   "source": [
    "## SVM 分类"
   ]
  },
  {
   "cell_type": "code",
   "execution_count": 1,
   "metadata": {},
   "outputs": [],
   "source": [
    "from sklearn.svm import SVC\n",
    "from sklearn.svm import SVR\n",
    "from sklearn.preprocessing import StandardScaler\n",
    "from sklearn.model_selection import GridSearchCV\n",
    "from sklearn import datasets\n",
    "from sklearn.model_selection import train_test_split\n",
    "from sklearn.model_selection import cross_validate#交叉验证\n",
    "from sklearn.model_selection import cross_val_score #交叉验证\n",
    "from sklearn.metrics import matthews_corrcoef\n",
    "import pandas as pd\n",
    "import joblib\n",
    "from sklearn import metrics\n",
    "import math\n",
    "import numpy as np\n",
    "from sklearn.metrics import classification_report\n",
    "import warnings\n",
    "import pickle\n",
    "warnings.filterwarnings(\"ignore\")\n"
   ]
  },
  {
   "cell_type": "code",
   "execution_count": 2,
   "metadata": {},
   "outputs": [],
   "source": [
    "# 读取数据\n",
    "iris = datasets.load_iris()\n",
    "X = iris.data\n",
    "y = iris.target\n",
    "\n",
    "# 标准化\n",
    "std = StandardScaler()\n",
    "X_std = std.fit_transform(X)\n",
    "\n",
    "# 拆分训练集\n",
    "X_train, X_test, y_train, y_test = train_test_split(X_std, y, test_size=0.3)\n",
    "\n",
    "# SVM建模\n",
    "svm_classification = SVC()\n",
    "svm_classification.fit(X_train, y_train)\n",
    "y_pred = svm_classification.predict(X_test)\n",
    "# 模型效果\n",
    "svm_classification.score(X_test, y_test)\n",
    "score = [classification_report(y_test,y_pred)]"
   ]
  },
  {
   "cell_type": "code",
   "execution_count": 96,
   "metadata": {},
   "outputs": [],
   "source": [
    "score.append(\"acc\")\n",
    "with open('爬到的数据.txt', 'a+', encoding='utf-8') as f:\n",
    "    for data in score:\n",
    "        f.write(data+'\\n')\n",
    "\n",
    "f.close()"
   ]
  },
  {
   "attachments": {},
   "cell_type": "markdown",
   "metadata": {},
   "source": [
    "## SVM 回归"
   ]
  },
  {
   "cell_type": "code",
   "execution_count": 3,
   "metadata": {},
   "outputs": [
    {
     "name": "stdout",
     "output_type": "stream",
     "text": [
      "[ 0.16291174  0.03071482 -0.61395781  0.06783386 -0.04146431]\n"
     ]
    },
    {
     "data": {
      "text/plain": [
       "0.6922890215581634"
      ]
     },
     "execution_count": 3,
     "metadata": {},
     "output_type": "execute_result"
    }
   ],
   "source": [
    "\n",
    "\n",
    "# 读取数据\n",
    "boston = datasets.load_boston()\n",
    "X = boston.data\n",
    "y = boston.target\n",
    "\n",
    "# 标准化\n",
    "std = StandardScaler()\n",
    "X_std = std.fit_transform(X)\n",
    "\n",
    "# 拆分训练集\n",
    "X_train, X_test, y_train, y_test = train_test_split(X_std, y, test_size=0.3)\n",
    "\n",
    "# SVM建模\n",
    "svm_regression = SVR(C=2, kernel='rbf')\n",
    "print(cross_val_score(svm_regression,X,y,cv=5,scoring=\"r2\"))\n",
    "svm_regression.fit(X_train, y_train)\n",
    "\n",
    "# 模型效果\n",
    "svm_regression.score(X_test, y_test)"
   ]
  },
  {
   "attachments": {},
   "cell_type": "markdown",
   "metadata": {},
   "source": [
    "## 模型调参：网格搜索"
   ]
  },
  {
   "cell_type": "code",
   "execution_count": 23,
   "metadata": {},
   "outputs": [
    {
     "name": "stdout",
     "output_type": "stream",
     "text": [
      "最好的参数组和： {'C': 2, 'kernel': 'linear'}\n",
      "最好的得分： 0.3151273617911972\n"
     ]
    }
   ],
   "source": [
    "\n",
    "# 定义参数的组合\n",
    "params = {\n",
    "    \"kernel\":['linear', 'rbf', 'poly', 'sigmoid'],\n",
    "    'C':[0.01, 0.1, 0.5, 1, 2,]\n",
    "}\n",
    "\n",
    "# 用网格搜索拟合模型\n",
    "model = GridSearchCV(svm_regression, param_grid=params, cv=10)\n",
    "model.fit(X,y)\n",
    "\n",
    "# 查看结果\n",
    "print(\"最好的参数组和：\", model.best_params_)\n",
    "print(\"最好的得分：\", model.best_score_)\n"
   ]
  },
  {
   "attachments": {},
   "cell_type": "markdown",
   "metadata": {},
   "source": [
    "## part1 SVM_Regression applied in ads effectiveness prediction"
   ]
  },
  {
   "cell_type": "code",
   "execution_count": 2,
   "metadata": {},
   "outputs": [],
   "source": [
    "df = pd.read_csv(\"./data/ads_3.csv\")\n",
    "\n",
    "X = df[df.columns[:62]]\n",
    "Y = df[df.columns[62:]]\n",
    "std = StandardScaler()     #标准化特征\n",
    "X_std = std.fit_transform(X)\n"
   ]
  },
  {
   "cell_type": "code",
   "execution_count": 3,
   "metadata": {},
   "outputs": [],
   "source": [
    "MSE = []\n",
    "RMSE_validation = []\n",
    "RMSE_test = []\n",
    "R_squared_test = []\n",
    "R_squared_validation = []\n",
    "\n",
    "\n",
    "for i in range(12):\n",
    "    y = Y[Y.columns[i]]\n",
    "    y_std = std.fit_transform(np.array(y).reshape(-1,1))\n",
    "    X_train, X_test, y_train, y_test = train_test_split(X_std, y_std.ravel(), random_state=0, train_size=0.7)    \n",
    "    params = {\n",
    "        \"kernel\":['linear', 'rbf', 'poly', 'sigmoid'],\n",
    "        'C':[0.01, 0.1, 0.5, 1, 2, 10, 100]\n",
    "    }\n",
    "    \n",
    "    svm_regression = SVR()\n",
    "    model = GridSearchCV(svm_regression, param_grid=params, cv=5)\n",
    "    model.fit(X_train, y_train)\n",
    "    C = model.best_params_[\"C\"]\n",
    "    kernel = model.best_params_[\"kernel\"]\n",
    "    \n",
    "    svm_regression = SVR(C=C, kernel=kernel)\n",
    "\n",
    "    cv_score = cross_validate(svm_regression       #实例化的模型\n",
    "\t\t\t\t, X   #完整的特征值\n",
    "\t\t\t\t, y_std.ravel() #完整的目标值\n",
    "\t\t\t\t, cv=5         #几折交叉验证\n",
    "\t\t\t\t,scoring = [\"neg_mean_squared_error\",\"neg_root_mean_squared_error\",\"r2\"]   \n",
    "\t\t\t\t)\n",
    "\n",
    "    \n",
    "    MSE.append(cv_score[\"test_neg_mean_squared_error\"].mean())\n",
    "    RMSE_validation.append(cv_score[\"test_neg_root_mean_squared_error\"].mean())\n",
    "    R_squared_validation.append(cv_score[\"test_r2\"].mean())\n",
    "\n",
    "\n",
    "\n",
    "    svm_regression = SVR(C=C, kernel=kernel)\n",
    "    svm_regression.fit(X_train, y_train)\n",
    "    R_squared_test.append(svm_regression.score(X_test,y_test))\n",
    "    RMSE_test.append(math.sqrt(metrics.mean_squared_error(y_test, svm_regression.predict(X_test))))\n",
    "    joblib.dump(svm_regression, \"model/SVM_regression/model{}.pkl\".format(i+1))\n",
    "\n"
   ]
  },
  {
   "cell_type": "code",
   "execution_count": 5,
   "metadata": {},
   "outputs": [],
   "source": [
    "MSE = np.array(MSE) * -1\n",
    "RMSE_validation = np.array(RMSE_validation) * -1\n",
    "result_dic = {\"MSE\":MSE, \"RMSE_validation\":RMSE_validation, \"RMSE_test\":RMSE_test, \"R_squared_validation\":R_squared_validation, \"R_squared_test\":R_squared_test}\n",
    "result_df = pd.DataFrame(result_dic, index=Y.columns)\n",
    "result_df.to_csv(\"result/SVM_regression.csv\")"
   ]
  },
  {
   "attachments": {},
   "cell_type": "markdown",
   "metadata": {},
   "source": [
    "## part2 SVM_Classification applied in ads effectiveness prediction"
   ]
  },
  {
   "cell_type": "code",
   "execution_count": 6,
   "metadata": {},
   "outputs": [],
   "source": [
    "df = pd.read_csv(\"./data/ads_3.csv\")\n",
    "\n",
    "X = df[df.columns[:62]]\n",
    "Y = df[df.columns[62:]]\n",
    "Y = round(Y*5).astype(int)\n",
    "std = StandardScaler()     #标准化特征\n",
    "X_std = std.fit_transform(X)\n"
   ]
  },
  {
   "cell_type": "code",
   "execution_count": null,
   "metadata": {},
   "outputs": [],
   "source": [
    "recall = []\n",
    "f1_score = []\n",
    "acc_validation = []\n",
    "acc_test = []\n",
    "mcc = []\n",
    "for i in range(12):\n",
    "    y = Y[Y.columns[i]]\n",
    "    X_train, X_test, y_train, y_test = train_test_split(X_std, y, random_state=0, train_size=0.7)\n",
    "    \n",
    "    params = {\n",
    "        \"kernel\":['linear', 'rbf', 'poly', 'sigmoid'],\n",
    "        'C':[0.01, 0.1, 0.5, 1, 2, 10, 100]\n",
    "    }\n",
    "    \n",
    "    svm_classification = SVC()\n",
    "    model = GridSearchCV(svm_classification, param_grid=params, cv=5)\n",
    "    model.fit(X_train, y_train)\n",
    "    C = model.best_params_[\"C\"]\n",
    "    kernel = model.best_params_[\"kernel\"]\n",
    "\n",
    "    \n",
    "    svm_classification = SVC(C=C, kernel=kernel)\n",
    "\n",
    "    cv_score = cross_validate(svm_classification       #实例化的模型\n",
    "\t\t\t\t, X   #完整的特征值\n",
    "\t\t\t\t, y #完整的目标值\n",
    "\t\t\t\t, cv=5         #几折交叉验证\n",
    "\t\t\t\t,scoring = [\"accuracy\",\"recall_micro\",\"f1_micro\"]   \n",
    "\t\t\t\t)\n",
    "\n",
    "    recall.append(cv_score[\"test_recall_micro\"].mean())\n",
    "    f1_score.append(cv_score[\"test_f1_micro\"].mean())\n",
    "    acc_validation.append(cv_score[\"test_accuracy\"].mean())\n",
    "\n",
    "    svm_classification = SVC(C=C, kernel=kernel)\n",
    "    svm_classification.fit(X_train, y_train)\n",
    "    mcc.append(matthews_corrcoef(y_test,svm_classification.predict(X_test)))\n",
    "    joblib.dump(svm_regression, \"model/SVM_classification/model{}.pkl\".format(i+1))\n",
    "    \n",
    "    acc_test.append(svm_classification.score(X_test,y_test))\n",
    "\n"
   ]
  },
  {
   "cell_type": "code",
   "execution_count": 137,
   "metadata": {},
   "outputs": [],
   "source": [
    "result_dic = {\"recall\":recall, \"f1_score\":f1_score, \"acc_validation\":acc_validation, \"acc_test\":acc_test, \"mcc\":mcc}\n",
    "result_df = pd.DataFrame(result_dic, index=Y.columns)\n",
    "result_df.to_csv(\"./result/SVM_classification.csv\")"
   ]
  },
  {
   "cell_type": "markdown",
   "metadata": {},
   "source": []
  }
 ],
 "metadata": {
  "kernelspec": {
   "display_name": "base",
   "language": "python",
   "name": "python3"
  },
  "language_info": {
   "codemirror_mode": {
    "name": "ipython",
    "version": 3
   },
   "file_extension": ".py",
   "mimetype": "text/x-python",
   "name": "python",
   "nbconvert_exporter": "python",
   "pygments_lexer": "ipython3",
   "version": "3.8.16"
  },
  "orig_nbformat": 4
 },
 "nbformat": 4,
 "nbformat_minor": 2
}
