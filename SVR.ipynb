{
 "cells": [
  {
   "attachments": {},
   "cell_type": "markdown",
   "metadata": {},
   "source": [
    "## SVM 分类"
   ]
  },
  {
   "cell_type": "code",
   "execution_count": 81,
   "metadata": {},
   "outputs": [],
   "source": [
    "from sklearn.svm import SVC\n",
    "from sklearn.svm import SVR\n",
    "from sklearn.preprocessing import StandardScaler\n",
    "from sklearn.model_selection import GridSearchCV\n",
    "from sklearn import datasets\n",
    "from sklearn.model_selection import train_test_split\n",
    "import pandas as pd\n",
    "import joblib\n",
    "from sklearn import metrics\n",
    "import math\n",
    "import numpy as np\n",
    "from sklearn.metrics import classification_report"
   ]
  },
  {
   "cell_type": "code",
   "execution_count": 95,
   "metadata": {},
   "outputs": [],
   "source": [
    "# 读取数据\n",
    "iris = datasets.load_iris()\n",
    "X = iris.data\n",
    "y = iris.target\n",
    "\n",
    "# 标准化\n",
    "std = StandardScaler()\n",
    "X_std = std.fit_transform(X)\n",
    "\n",
    "# 拆分训练集\n",
    "X_train, X_test, y_train, y_test = train_test_split(X_std, y, test_size=0.3)\n",
    "\n",
    "# SVM建模\n",
    "svm_classification = SVC()\n",
    "svm_classification.fit(X_train, y_train)\n",
    "y_pred = svm_classification.predict(X_test)\n",
    "# 模型效果\n",
    "svm_classification.score(X_test, y_test)\n",
    "score = [classification_report(y_test,y_pred)]"
   ]
  },
  {
   "cell_type": "code",
   "execution_count": 96,
   "metadata": {},
   "outputs": [],
   "source": [
    "score.append(\"acc\")\n",
    "with open('爬到的数据.txt', 'a+', encoding='utf-8') as f:\n",
    "    for data in score:\n",
    "        f.write(data+'\\n')\n",
    "\n",
    "f.close()"
   ]
  },
  {
   "attachments": {},
   "cell_type": "markdown",
   "metadata": {},
   "source": [
    "## SVM 回归"
   ]
  },
  {
   "cell_type": "code",
   "execution_count": null,
   "metadata": {},
   "outputs": [],
   "source": [
    "\n",
    "\n",
    "# 读取数据\n",
    "boston = datasets.load_boston()\n",
    "X = boston.data\n",
    "y = boston.target\n",
    "\n",
    "# 标准化\n",
    "std = StandardScaler()\n",
    "X_std = std.fit_transform(X)\n",
    "\n",
    "# 拆分训练集\n",
    "X_train, X_test, y_train, y_test = train_test_split(X_std, y, test_size=0.3)\n",
    "\n",
    "# SVM建模\n",
    "svm_regression = SVR(C=2, kernel='rbf')\n",
    "svm_regression.fit(X_train, y_train)\n",
    "\n",
    "# 模型效果\n",
    "svm_regression.score(X_test, y_test)"
   ]
  },
  {
   "attachments": {},
   "cell_type": "markdown",
   "metadata": {},
   "source": [
    "## 模型调参：网格搜索"
   ]
  },
  {
   "cell_type": "code",
   "execution_count": 23,
   "metadata": {},
   "outputs": [
    {
     "name": "stdout",
     "output_type": "stream",
     "text": [
      "最好的参数组和： {'C': 2, 'kernel': 'linear'}\n",
      "最好的得分： 0.3151273617911972\n"
     ]
    }
   ],
   "source": [
    "\n",
    "# 定义参数的组合\n",
    "params = {\n",
    "    \"kernel\":['linear', 'rbf', 'poly', 'sigmoid'],\n",
    "    'C':[0.01, 0.1, 0.5, 1, 2,]\n",
    "}\n",
    "\n",
    "# 用网格搜索拟合模型\n",
    "model = GridSearchCV(svm_regression, param_grid=params, cv=10)\n",
    "model.fit(X,y)\n",
    "\n",
    "# 查看结果\n",
    "print(\"最好的参数组和：\", model.best_params_)\n",
    "print(\"最好的得分：\", model.best_score_)\n"
   ]
  },
  {
   "attachments": {},
   "cell_type": "markdown",
   "metadata": {},
   "source": [
    "## part1 SVM_Regression applied in ads effectiveness prediction"
   ]
  },
  {
   "cell_type": "code",
   "execution_count": 70,
   "metadata": {},
   "outputs": [],
   "source": [
    "df = pd.read_csv(\"./data/ads_3.csv\")\n",
    "\n",
    "X = df[df.columns[:62]]\n",
    "Y = df[df.columns[62:]]\n",
    "std = StandardScaler()     #标准化特征\n",
    "X_std = std.fit_transform(X)\n"
   ]
  },
  {
   "cell_type": "code",
   "execution_count": 39,
   "metadata": {},
   "outputs": [
    {
     "name": "stdout",
     "output_type": "stream",
     "text": [
      "最好的参数组和： {'C': 0.5, 'kernel': 'rbf'}\n",
      "最好的得分： -0.13549245031976037\n"
     ]
    }
   ],
   "source": [
    "# 定义参数的组合\n",
    "params = {\n",
    "    \"kernel\":['linear', 'rbf', 'poly', 'sigmoid'],\n",
    "    'C':[0.01, 0.1, 0.5, 1, 2, 10, 100]\n",
    "}\n",
    "\n",
    "svm_regression = SVR()\n",
    "model = GridSearchCV(svm_regression, param_grid=params, cv=10)\n",
    "model.fit(X, Y[Y.columns[1]])\n",
    "\n",
    "# 查看结果\n",
    "print(\"最好的参数组和：\", model.best_params_)\n",
    "print(\"最好的得分：\", model.best_score_)"
   ]
  },
  {
   "cell_type": "code",
   "execution_count": 71,
   "metadata": {},
   "outputs": [],
   "source": [
    "MSE = []\n",
    "RMSE = []\n",
    "R_squared = []\n",
    "\n",
    "for i in range(12):\n",
    "    y = Y[Y.columns[i]]\n",
    "    y_std = std.fit_transform(np.array(y).reshape(-1,1))\n",
    "    X_train, X_test, y_train, y_test = train_test_split(X_std, y_std.ravel(), random_state=1)    \n",
    "    params = {\n",
    "        \"kernel\":['linear', 'rbf', 'poly', 'sigmoid'],\n",
    "        'C':[0.01, 0.1, 0.5, 1, 2, 10, 100]\n",
    "    }\n",
    "    \n",
    "    svm_regression = SVR()\n",
    "    model = GridSearchCV(svm_regression, param_grid=params, cv=10)\n",
    "    model.fit(X_std, y_std.ravel())\n",
    "    C = model.best_params_[\"C\"]\n",
    "    kernel = model.best_params_[\"kernel\"]\n",
    "    \n",
    "    svm_regression = SVR(C=C, kernel=kernel)\n",
    "    svm_regression.fit(X_train, y_train)\n",
    "\n",
    "    joblib.dump(svm_regression, \"model/SVM_regression/model{}.pkl\".format(i+1))\n",
    "    y_pred = svm_regression.predict(X_test)\n",
    "    MSE.append(metrics.mean_squared_error(y_test, y_pred))\n",
    "    RMSE.append(math.sqrt(metrics.mean_squared_error(y_test, y_pred)))\n",
    "    R_squared.append(metrics.r2_score(y_test, y_pred))"
   ]
  },
  {
   "cell_type": "code",
   "execution_count": 72,
   "metadata": {},
   "outputs": [],
   "source": [
    "result_dic = {\"MSE\":MSE, \"RMSE\":RMSE, \"R_squared\":R_squared}\n",
    "result_df = pd.DataFrame(result_dic, index=Y.columns)\n",
    "result_df.to_csv(\"result/SVM_regression.csv\")"
   ]
  },
  {
   "attachments": {},
   "cell_type": "markdown",
   "metadata": {},
   "source": [
    "## part2 SVM_Classification applied in ads effectiveness prediction"
   ]
  },
  {
   "cell_type": "code",
   "execution_count": 107,
   "metadata": {},
   "outputs": [],
   "source": [
    "df = pd.read_csv(\"./data/ads_3.csv\")\n",
    "\n",
    "X = df[df.columns[:62]]\n",
    "Y = df[df.columns[62:]]\n",
    "Y = round(Y*10).astype(int)\n",
    "std = StandardScaler()     #标准化特征\n",
    "X_std = std.fit_transform(X)\n"
   ]
  },
  {
   "cell_type": "code",
   "execution_count": 108,
   "metadata": {},
   "outputs": [
    {
     "name": "stderr",
     "output_type": "stream",
     "text": [
      "/home/dldx/anaconda3/envs/torch/lib/python3.7/site-packages/sklearn/model_selection/_split.py:680: UserWarning: The least populated class in y has only 1 members, which is less than n_splits=10.\n",
      "  UserWarning,\n",
      "/home/dldx/anaconda3/envs/torch/lib/python3.7/site-packages/sklearn/model_selection/_split.py:680: UserWarning: The least populated class in y has only 1 members, which is less than n_splits=10.\n",
      "  UserWarning,\n",
      "/home/dldx/anaconda3/envs/torch/lib/python3.7/site-packages/sklearn/model_selection/_split.py:680: UserWarning: The least populated class in y has only 1 members, which is less than n_splits=10.\n",
      "  UserWarning,\n",
      "/home/dldx/anaconda3/envs/torch/lib/python3.7/site-packages/sklearn/model_selection/_split.py:680: UserWarning: The least populated class in y has only 1 members, which is less than n_splits=10.\n",
      "  UserWarning,\n",
      "/home/dldx/anaconda3/envs/torch/lib/python3.7/site-packages/sklearn/model_selection/_split.py:680: UserWarning: The least populated class in y has only 3 members, which is less than n_splits=10.\n",
      "  UserWarning,\n",
      "/home/dldx/anaconda3/envs/torch/lib/python3.7/site-packages/sklearn/model_selection/_split.py:680: UserWarning: The least populated class in y has only 7 members, which is less than n_splits=10.\n",
      "  UserWarning,\n",
      "/home/dldx/anaconda3/envs/torch/lib/python3.7/site-packages/sklearn/model_selection/_split.py:680: UserWarning: The least populated class in y has only 4 members, which is less than n_splits=10.\n",
      "  UserWarning,\n",
      "/home/dldx/anaconda3/envs/torch/lib/python3.7/site-packages/sklearn/model_selection/_split.py:680: UserWarning: The least populated class in y has only 7 members, which is less than n_splits=10.\n",
      "  UserWarning,\n",
      "/home/dldx/anaconda3/envs/torch/lib/python3.7/site-packages/sklearn/model_selection/_split.py:680: UserWarning: The least populated class in y has only 1 members, which is less than n_splits=10.\n",
      "  UserWarning,\n",
      "/home/dldx/anaconda3/envs/torch/lib/python3.7/site-packages/sklearn/model_selection/_split.py:680: UserWarning: The least populated class in y has only 6 members, which is less than n_splits=10.\n",
      "  UserWarning,\n",
      "/home/dldx/anaconda3/envs/torch/lib/python3.7/site-packages/sklearn/model_selection/_split.py:680: UserWarning: The least populated class in y has only 1 members, which is less than n_splits=10.\n",
      "  UserWarning,\n"
     ]
    }
   ],
   "source": [
    "\n",
    "score_list = []\n",
    "for i in range(12):\n",
    "    y = Y[Y.columns[i]]\n",
    "    X_train, X_test, y_train, y_test = train_test_split(X_std, y, random_state=0, train_size=0.7)\n",
    "    \n",
    "    params = {\n",
    "        \"kernel\":['linear', 'rbf', 'poly', 'sigmoid'],\n",
    "        'C':[0.01, 0.1, 0.5, 1, 2, 10, 100]\n",
    "    }\n",
    "    \n",
    "    svm_classification = SVC()\n",
    "    model = GridSearchCV(svm_classification, param_grid=params, cv=10)\n",
    "    model.fit(X_train, y_train)\n",
    "    C = model.best_params_[\"C\"]\n",
    "    kernel = model.best_params_[\"kernel\"]\n",
    "    \n",
    "    svm_classification = SVC(C=C, kernel=kernel)\n",
    "    svm_classification.fit(X_train, y_train)\n",
    "\n",
    "    joblib.dump(svm_regression, \"model/SVM_classification/model{}.pkl\".format(i+1))\n",
    "    y_pred = svm_classification.predict(X_test)\n",
    "\n",
    "    # score_list.append(classification_report(y_test,y_pred))\n",
    "    score_list.append(svm_classification.score(X_test,y_test))\n",
    "    \n",
    "  \n",
    "    \n",
    "\n",
    "# with open('./result/SVM_classification.txt', 'a+', encoding='utf-8') as f:\n",
    "#     for data in score_list:\n",
    "#         f.write(data+'\\n')\n",
    "\n",
    "# f.close()\n",
    "    # MSE.append(metrics.mean_squared_error(y_test, y_pred))\n",
    "    # RMSE.append(math.sqrt(metrics.mean_squared_error(y_test, y_pred)))\n",
    "    # R_squared.append(metrics.r2_score(y_test, y_pred))\n"
   ]
  },
  {
   "cell_type": "code",
   "execution_count": 106,
   "metadata": {},
   "outputs": [],
   "source": [
    "result_df = pd.DataFrame(score_list, index=Y.columns, columns=['ACC'])\n",
    "result_df.to_csv(\"./result/SVM_classification.csv\")"
   ]
  },
  {
   "cell_type": "markdown",
   "metadata": {},
   "source": []
  }
 ],
 "metadata": {
  "kernelspec": {
   "display_name": "torch",
   "language": "python",
   "name": "torch"
  },
  "language_info": {
   "codemirror_mode": {
    "name": "ipython",
    "version": 3
   },
   "file_extension": ".py",
   "mimetype": "text/x-python",
   "name": "python",
   "nbconvert_exporter": "python",
   "pygments_lexer": "ipython3",
   "version": "3.7.12"
  },
  "orig_nbformat": 4
 },
 "nbformat": 4,
 "nbformat_minor": 2
}
