{
 "cells": [
  {
   "attachments": {},
   "cell_type": "markdown",
   "metadata": {},
   "source": [
    "## SVM 分类"
   ]
  },
  {
   "cell_type": "code",
   "execution_count": 46,
   "metadata": {},
   "outputs": [],
   "source": [
    "from sklearn.svm import SVC\n",
    "from sklearn.preprocessing import StandardScaler\n",
    "from sklearn import datasets\n",
    "from sklearn.model_selection import train_test_split\n",
    "import pandas as pd\n",
    "import joblib\n",
    "from sklearn import metrics\n",
    "import math\n"
   ]
  },
  {
   "cell_type": "code",
   "execution_count": 8,
   "metadata": {},
   "outputs": [
    {
     "data": {
      "text/plain": [
       "0.9777777777777777"
      ]
     },
     "execution_count": 8,
     "metadata": {},
     "output_type": "execute_result"
    }
   ],
   "source": [
    "# 读取数据\n",
    "iris = datasets.load_iris()\n",
    "X = iris.data\n",
    "y = iris.target\n",
    "\n",
    "# 标准化\n",
    "std = StandardScaler()\n",
    "X_std = std.fit_transform(X)\n",
    "\n",
    "# 拆分训练集\n",
    "X_train, X_test, y_train, y_test = train_test_split(X_std, y, test_size=0.3)\n",
    "\n",
    "# SVM建模\n",
    "svm_classification = SVC()\n",
    "svm_classification.fit(X_train, y_train)\n",
    "\n",
    "# 模型效果\n",
    "svm_classification.score(X_test, y_test)"
   ]
  },
  {
   "attachments": {},
   "cell_type": "markdown",
   "metadata": {},
   "source": [
    "## SVM 回归"
   ]
  },
  {
   "cell_type": "code",
   "execution_count": null,
   "metadata": {},
   "outputs": [],
   "source": [
    "from sklearn.svm import SVR\n",
    "\n",
    "# 读取数据\n",
    "boston = datasets.load_boston()\n",
    "X = boston.data\n",
    "y = boston.target\n",
    "\n",
    "# 标准化\n",
    "std = StandardScaler()\n",
    "X_std = std.fit_transform(X)\n",
    "\n",
    "# 拆分训练集\n",
    "X_train, X_test, y_train, y_test = train_test_split(X_std, y, test_size=0.3)\n",
    "\n",
    "# SVM建模\n",
    "svm_regression = SVR(C=2, kernel='rbf')\n",
    "svm_regression.fit(X_train, y_train)\n",
    "\n",
    "# 模型效果\n",
    "svm_regression.score(X_test, y_test)"
   ]
  },
  {
   "attachments": {},
   "cell_type": "markdown",
   "metadata": {},
   "source": [
    "## 模型调参：网格搜索"
   ]
  },
  {
   "cell_type": "code",
   "execution_count": 23,
   "metadata": {},
   "outputs": [
    {
     "name": "stdout",
     "output_type": "stream",
     "text": [
      "最好的参数组和： {'C': 2, 'kernel': 'linear'}\n",
      "最好的得分： 0.3151273617911972\n"
     ]
    }
   ],
   "source": [
    "from sklearn.model_selection import GridSearchCV\n",
    "\n",
    "# 定义参数的组合\n",
    "params = {\n",
    "    \"kernel\":['linear', 'rbf', 'poly', 'sigmoid'],\n",
    "    'C':[0.01, 0.1, 0.5, 1, 2,]\n",
    "}\n",
    "\n",
    "# 用网格搜索拟合模型\n",
    "model = GridSearchCV(svm_regression, param_grid=params, cv=10)\n",
    "model.fit(X,y)\n",
    "\n",
    "# 查看结果\n",
    "print(\"最好的参数组和：\", model.best_params_)\n",
    "print(\"最好的得分：\", model.best_score_)\n"
   ]
  },
  {
   "attachments": {},
   "cell_type": "markdown",
   "metadata": {},
   "source": [
    "## part1 SVM applied in ads effectiveness prediction"
   ]
  },
  {
   "cell_type": "code",
   "execution_count": 42,
   "metadata": {},
   "outputs": [
    {
     "data": {
      "text/plain": [
       "array([[ 0.2901905 ,  0.55117825, -1.97604704, ..., -0.84656167,\n",
       "         0.82146013,  0.33691767],\n",
       "       [ 0.2901905 ,  0.55117825,  0.50606083, ..., -0.84656167,\n",
       "        -1.21734453,  0.33691767],\n",
       "       [ 0.2901905 , -1.81429509,  0.50606083, ..., -0.84656167,\n",
       "         0.82146013,  0.33691767],\n",
       "       ...,\n",
       "       [-3.44601219, -1.81429509, -1.97604704, ..., -0.84656167,\n",
       "         0.82146013,  0.33691767],\n",
       "       [ 0.2901905 , -1.81429509,  0.50606083, ...,  1.18124885,\n",
       "         0.82146013,  0.33691767],\n",
       "       [ 0.2901905 , -1.81429509,  0.50606083, ..., -0.84656167,\n",
       "        -1.21734453,  0.33691767]])"
      ]
     },
     "execution_count": 42,
     "metadata": {},
     "output_type": "execute_result"
    }
   ],
   "source": [
    "df = pd.read_csv(\"./data/ads_3.csv\")\n",
    "\n",
    "X = df[df.columns[:62]]\n",
    "Y = df[df.columns[62:]]\n",
    "std = StandardScaler()     #标准化特征\n",
    "X_std = std.fit_transform(X)\n",
    "\n",
    "X_std"
   ]
  },
  {
   "cell_type": "code",
   "execution_count": 39,
   "metadata": {},
   "outputs": [
    {
     "name": "stdout",
     "output_type": "stream",
     "text": [
      "最好的参数组和： {'C': 0.5, 'kernel': 'rbf'}\n",
      "最好的得分： -0.13549245031976037\n"
     ]
    }
   ],
   "source": [
    "# 定义参数的组合\n",
    "params = {\n",
    "    \"kernel\":['linear', 'rbf', 'poly', 'sigmoid'],\n",
    "    'C':[0.01, 0.1, 0.5, 1, 2, 10, 100]\n",
    "}\n",
    "\n",
    "svm_regression = SVR()\n",
    "model = GridSearchCV(svm_regression, param_grid=params, cv=10)\n",
    "model.fit(X, Y[Y.columns[1]])\n",
    "\n",
    "# 查看结果\n",
    "print(\"最好的参数组和：\", model.best_params_)\n",
    "print(\"最好的得分：\", model.best_score_)"
   ]
  },
  {
   "cell_type": "code",
   "execution_count": 44,
   "metadata": {},
   "outputs": [],
   "source": [
    "MSE = []\n",
    "RMSE = []\n",
    "R_squared = []\n",
    "for i in range(12):\n",
    "    y = Y[Y.columns[i]]\n",
    "    X_train, X_test, y_train, y_test = train_test_split(X_std, y, random_state=0)\n",
    "    \n",
    "    params = {\n",
    "        \"kernel\":['linear', 'rbf', 'poly', 'sigmoid'],\n",
    "        'C':[0.01, 0.1, 0.5, 1, 2, 10, 100]\n",
    "    }\n",
    "    \n",
    "    svm_regression = SVR()\n",
    "    model = GridSearchCV(svm_regression, param_grid=params, cv=10)\n",
    "    model.fit(X_std, Y[Y.columns[1]])\n",
    "    C = model.best_params_[\"C\"]\n",
    "    kernel = model.best_params_[\"kernel\"]\n",
    "    \n",
    "    svm_regression = SVR(C=C, kernel=kernel)\n",
    "    svm_regression.fit(X_train, y_train)\n",
    "\n",
    "    joblib.dump(svm_regression, \"model/SVM_regression/model{}.pkl\".format(i+1))\n",
    "    y_pred = svm_regression.predict(X_test)\n",
    "    MSE.append(metrics.mean_squared_error(y_test, y_pred))\n",
    "    RMSE.append(math.sqrt(metrics.mean_squared_error(y_test, y_pred)))\n",
    "    R_squared.append(metrics.r2_score(y_test, y_pred))"
   ]
  },
  {
   "cell_type": "code",
   "execution_count": 45,
   "metadata": {},
   "outputs": [],
   "source": [
    "result_dic = {\"MSE\":MSE, \"RMSE\":RMSE, \"R_squared\":R_squared}\n",
    "result_df = pd.DataFrame(result_dic, index=Y.columns)\n",
    "result_df.to_csv(\"result/SVM_regression.csv\")"
   ]
  }
 ],
 "metadata": {
  "kernelspec": {
   "display_name": "torch",
   "language": "python",
   "name": "torch"
  },
  "language_info": {
   "codemirror_mode": {
    "name": "ipython",
    "version": 3
   },
   "file_extension": ".py",
   "mimetype": "text/x-python",
   "name": "python",
   "nbconvert_exporter": "python",
   "pygments_lexer": "ipython3",
   "version": "3.7.12"
  },
  "orig_nbformat": 4
 },
 "nbformat": 4,
 "nbformat_minor": 2
}
